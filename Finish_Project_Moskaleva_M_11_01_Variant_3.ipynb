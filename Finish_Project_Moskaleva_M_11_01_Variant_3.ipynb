{
 "cells": [
  {
   "cell_type": "markdown",
   "metadata": {},
   "source": [
    "# Финальный проект: вариант 3\n",
    "\n",
    "Представьте, что вы работаете в крупном дейтинговом приложении.\n",
    "Помимо базовых функций, в приложении также имеется премиум-подписка, которая дает доступ к ряду важных дополнительных возможностей. Был проведен A/B тест, в рамках которого для новых пользователей из нескольких стран была изменена стоимость премиум-подписки* при покупке через две новые платежные системы. При этом стоимость пробного периода оставалась прежней.\n",
    "\n",
    "Проверьте:\n",
    "1. Был ли эксперимент успешен в целом.\n",
    "2. Проанализируйте, имеет ли нововведение смысл среди каких-либо конкретных групп пользователей.\n",
    "\n",
    "*Деньги за подписку списываются ежемесячно до тех пор, пока пользователь её не отменит.\n",
    "\n",
    "**Данные**\n",
    "\n",
    "Всего есть три группы: тестовая (test), контрольная 1 (control_1) и контрольная 2 (control_2). Для каждой из них:\n",
    "\n",
    "users_*.csv – информация о пользователях:\n",
    "\n",
    "- `uid` – идентификатор пользователя\n",
    "- `age` – возраст\n",
    "- `attraction_coeff` – коэффициент привлекательности (от 0 до 1000, лайки/просмотры*1000)\n",
    "- `coins` – число монеток (внутренняя валюта)\n",
    "- `country` – страна \n",
    "- `visit_days` – в какие дни после регистрации пользователь посещал приложение (напр. в 1, затем в 7)\n",
    "- `gender` – пол\n",
    "- `age_filter_start`  – фильтр поиска, мин. значение\n",
    "- `age_filter_end`  – фильтр поиска, макс. значение\n",
    "- `views_count` – число полученных оценок\n",
    "- `was_premium` – был ли когда-либо премиум (либо пробный период премиум-статуса, либо купленный за деньги)\n",
    "- `is_premium` –  является ли премиум\n",
    "- `total_revenue` – нормированная выручка \n",
    "\n",
    "transactions_*.csv – информация о платежах пользователей:\n",
    "- `uid` – идентификатор пользователя\n",
    "- `country` – страна\n",
    "- `joined_at` – дата и время регистрации\n",
    "- `paid_at` – дата и время покупки\n",
    "- `revenue` – нормированная выручка\n",
    "- `payment_id` – идентификатор платежа\n",
    "- `from_page` – откуда пользователь перешел на страницу оплаты\n",
    "- `product_type` – тип продукта (trial_premium – пробная премиум-подписка, premium_no_trial – премиум-подписка без пробной, coins – подписка за внутреннюю валюту, other_type – другое)\n",
    "\n",
    "**Файлы:**\n",
    "\n",
    "- users_test – информация о пользователях в тестовой группе.\n",
    "- users_control_1 – информация о пользователях в первой контрольной группе.\n",
    "- users_control_2 – информация о пользователях во второй контрольной группе .\n",
    "- transactions_test – информация о платежах пользователей в тестовой группе.\n",
    "- transactions_control_1 – информация о платежах пользователей в первой контрольной группе.\n",
    "- transactions_control_2 – информация о платежах пользователей во второй контрольной группе."
   ]
  },
  {
   "cell_type": "markdown",
   "metadata": {},
   "source": [
    "## About dating apps\n",
    "Прежде чем переходить к выполнению задания проанализируем dating apps: какие цели преследуют приложения и за счет чего зарабатывают. Ведь продукт — это бизнес, а бизнес — это деньги. \n",
    "\n",
    "Анализ экономики дейтингового приложения поможет определить какие метрики рассчитать для оценки внесенного изменения.\n",
    "dating apps позиционируют себя как возможность найти идеального партнера, но это не главная цель продукта. Найдете партнера — перестанете пользоваться приложением. \n",
    "\n",
    "Цель приложения: увеличить время использования продукта и стимулирование покупок в приложении. \n",
    "\n",
    "Достигнуть этих целей помогут следующие задачи:\n",
    "1.\tУдержать пользователя (Retention Rate and Churn Rate, Stickiness).\n",
    "2.\tУвеличить активность пользователя в приложении (DAU и MAU).\n",
    "3.\tУвеличить количество премиум подписок (CR, ARPU, ARPPU).\n",
    "4.\tУвеличить количество установок.\n",
    "\n",
    "Следующие метрики помогут отслеживать прогресс по задачам:\n",
    "1. Основная метрика: \n",
    " - Conversion Rate в покупку премиум подписки без пробного периода (premium_no_trial)\n",
    "2. Вспомогательные метрики: \n",
    "  - ARPU, ARPPU. Позволят оценить выручку и аудиторию: не слишком ли большая скидка или предложение привлекло аудиторию, которая не платит \n",
    "  - Retention rate (1, 7 и 28 дня). Чем дольше человек в приложении, тем выше вероятность покупки премиум версии \n"
   ]
  },
  {
   "cell_type": "code",
   "execution_count": 1,
   "metadata": {},
   "outputs": [],
   "source": [
    "# Загрузка необходимых библиотек\n",
    "\n",
    "import pandas as pd\n",
    "import seaborn as sns\n",
    "import matplotlib.pyplot as plt\n",
    "import plotly.express as px\n",
    "import scipy.stats as st\n",
    "import statsmodels.stats.api as sms\n",
    "import scipy\n",
    "import numpy as np\n",
    "\n",
    "from scipy import stats\n",
    "from tqdm.auto import tqdm\n",
    "from scipy.stats import norm\n",
    "\n",
    "%matplotlib inline\n",
    "plt.style.use('ggplot')"
   ]
  },
  {
   "cell_type": "code",
   "execution_count": 2,
   "metadata": {},
   "outputs": [],
   "source": [
    "# Загрузка данных\n",
    "\n",
    "users_test = pd.read_csv('https://getfile.dokpub.com/yandex/get/https://disk.yandex.ru/d/4XXIME4osGrMRA', sep=';')\n",
    "users_control_1 = pd.read_csv('https://getfile.dokpub.com/yandex/get/https://disk.yandex.ru/d/yJFydMNNGkEKfg', sep=';')\n",
    "users_control_2 = pd.read_csv('https://getfile.dokpub.com/yandex/get/https://disk.yandex.ru/d/br6KkQupzzTGoQ', sep=';')\n",
    "transactions_test = pd.read_csv('https://getfile.dokpub.com/yandex/get/https://disk.yandex.ru/d/gvCWpZ55ODzs2g', sep=';', \n",
    "                                parse_dates=[2,3])\n",
    "transactions_control_1 = pd.read_csv('https://getfile.dokpub.com/yandex/get/https://disk.yandex.ru/d/VY5W0keMX5TZBQ', sep=';', \n",
    "                                     parse_dates=[2,3])\n",
    "transactions_control_2 = pd.read_csv('https://getfile.dokpub.com/yandex/get/https://disk.yandex.ru/d/th5GL0mGOc-qzg', sep=';', \n",
    "                                     parse_dates=[2,3])"
   ]
  },
  {
   "cell_type": "code",
   "execution_count": 3,
   "metadata": {},
   "outputs": [
    {
     "name": "stdout",
     "output_type": "stream",
     "text": [
      "[0, 0, 0, 0, 630, 0]\n"
     ]
    }
   ],
   "source": [
    "# Проверка на пропущенные значения. Удалять будем строки только с пропущенным uid.\n",
    "\n",
    "df_list = [users_test, users_control_1, users_control_2, transactions_test, transactions_control_1, transactions_control_2]\n",
    "empty_list = []\n",
    "\n",
    "for i in df_list:    \n",
    "    empty_list.append(i.uid.isna().sum())\n",
    "print(empty_list)"
   ]
  },
  {
   "cell_type": "code",
   "execution_count": 5,
   "metadata": {},
   "outputs": [],
   "source": [
    "# Удаление строк с пропущенными uid\n",
    "\n",
    "transactions_control_1 = transactions_control_1.query(\"uid != 'NaN'\")"
   ]
  },
  {
   "cell_type": "code",
   "execution_count": 6,
   "metadata": {},
   "outputs": [
    {
     "name": "stdout",
     "output_type": "stream",
     "text": [
      "[0, 0, 0, 7, 21, 5]\n"
     ]
    }
   ],
   "source": [
    "# Проверка на дубликаты\n",
    "\n",
    "df_list = [users_test, users_control_1, users_control_2, transactions_test, transactions_control_1, transactions_control_2]\n",
    "duplicates = []\n",
    "\n",
    "for i in df_list:\n",
    "    duplicates.append(i.loc[i.duplicated()].shape[0])\n",
    "print(duplicates)"
   ]
  },
  {
   "cell_type": "code",
   "execution_count": 7,
   "metadata": {},
   "outputs": [
    {
     "name": "stdout",
     "output_type": "stream",
     "text": [
      "2344901 2300818\n",
      "2612311.0 2581267\n",
      "1920438 1920438\n"
     ]
    }
   ],
   "source": [
    "# Проверим нужно ли удалять дубликаты: сравним суммарную выручку в датасетах transactions и users\n",
    "\n",
    "print(transactions_test.revenue.sum(), users_test.total_revenue.sum())\n",
    "print(transactions_control_1.revenue.sum(), users_control_1.total_revenue.sum())\n",
    "print(transactions_control_2.revenue.sum(), users_control_2.total_revenue.sum())"
   ]
  },
  {
   "cell_type": "markdown",
   "metadata": {},
   "source": [
    "**Вывод**: суммарная выручка в control_2 совпадает, а в control_1 и test - нет (причем сумма в transactions больше). Предположим, что есть транзакции не учтенные в датасетах users."
   ]
  },
  {
   "cell_type": "code",
   "execution_count": 8,
   "metadata": {},
   "outputs": [
    {
     "data": {
      "text/html": [
       "<div>\n",
       "<style scoped>\n",
       "    .dataframe tbody tr th:only-of-type {\n",
       "        vertical-align: middle;\n",
       "    }\n",
       "\n",
       "    .dataframe tbody tr th {\n",
       "        vertical-align: top;\n",
       "    }\n",
       "\n",
       "    .dataframe thead th {\n",
       "        text-align: right;\n",
       "    }\n",
       "</style>\n",
       "<table border=\"1\" class=\"dataframe\">\n",
       "  <thead>\n",
       "    <tr style=\"text-align: right;\">\n",
       "      <th></th>\n",
       "      <th>uid</th>\n",
       "      <th>uid_revenue</th>\n",
       "      <th>total_revenue</th>\n",
       "    </tr>\n",
       "  </thead>\n",
       "  <tbody>\n",
       "    <tr>\n",
       "      <th>129</th>\n",
       "      <td>892275462</td>\n",
       "      <td>58968</td>\n",
       "      <td>14885</td>\n",
       "    </tr>\n",
       "  </tbody>\n",
       "</table>\n",
       "</div>"
      ],
      "text/plain": [
       "           uid  uid_revenue  total_revenue\n",
       "129  892275462        58968          14885"
      ]
     },
     "execution_count": 8,
     "metadata": {},
     "output_type": "execute_result"
    }
   ],
   "source": [
    "# Найдем неучтенные транзакции в users_test\n",
    "\n",
    "tr_revenue = transactions_test.groupby('uid', as_index=False).agg(uid_revenue=('revenue', 'sum'))\n",
    "us_revenue = users_test.query(\"total_revenue != 0\")\n",
    "revenue = tr_revenue.merge(us_revenue, how='left', on='uid')\n",
    "revenue[['uid', 'uid_revenue', 'total_revenue']].query(\"total_revenue != uid_revenue\")"
   ]
  },
  {
   "cell_type": "code",
   "execution_count": 9,
   "metadata": {},
   "outputs": [
    {
     "data": {
      "text/html": [
       "<div>\n",
       "<style scoped>\n",
       "    .dataframe tbody tr th:only-of-type {\n",
       "        vertical-align: middle;\n",
       "    }\n",
       "\n",
       "    .dataframe tbody tr th {\n",
       "        vertical-align: top;\n",
       "    }\n",
       "\n",
       "    .dataframe thead th {\n",
       "        text-align: right;\n",
       "    }\n",
       "</style>\n",
       "<table border=\"1\" class=\"dataframe\">\n",
       "  <thead>\n",
       "    <tr style=\"text-align: right;\">\n",
       "      <th></th>\n",
       "      <th>uid</th>\n",
       "      <th>uid_revenue</th>\n",
       "      <th>total_revenue</th>\n",
       "    </tr>\n",
       "  </thead>\n",
       "  <tbody>\n",
       "    <tr>\n",
       "      <th>181</th>\n",
       "      <td>892355163.0</td>\n",
       "      <td>30264.0</td>\n",
       "      <td>NaN</td>\n",
       "    </tr>\n",
       "    <tr>\n",
       "      <th>192</th>\n",
       "      <td>960936960.0</td>\n",
       "      <td>806.0</td>\n",
       "      <td>26.0</td>\n",
       "    </tr>\n",
       "  </tbody>\n",
       "</table>\n",
       "</div>"
      ],
      "text/plain": [
       "             uid  uid_revenue  total_revenue\n",
       "181  892355163.0      30264.0            NaN\n",
       "192  960936960.0        806.0           26.0"
      ]
     },
     "execution_count": 9,
     "metadata": {},
     "output_type": "execute_result"
    }
   ],
   "source": [
    "# Найдем неучтенные транзакции в users_test\n",
    "tr_c_1_revenue = transactions_control_1.groupby('uid', as_index=False).agg(uid_revenue=('revenue', 'sum'))\n",
    "us_c_1_revenue = users_control_1.query(\"total_revenue != 0\")\n",
    "revenue_c_1 = tr_c_1_revenue.merge(us_c_1_revenue, how='left', on='uid')\n",
    "revenue_c_1[['uid', 'uid_revenue', 'total_revenue']].query(\"total_revenue != uid_revenue\")"
   ]
  },
  {
   "cell_type": "code",
   "execution_count": 10,
   "metadata": {},
   "outputs": [],
   "source": [
    "# Замена неверных значений \n",
    "\n",
    "users_test.loc[users_test['uid'] == 892275462, 'total_revenue'] = 58968\n",
    "users_control_1.loc[users_control_1['uid'] == 892355163.0, 'total_revenue'] = 30264.0\n",
    "users_control_1.loc[users_control_1['uid'] == 960936960.0, 'total_revenue'] = 806.0"
   ]
  },
  {
   "cell_type": "code",
   "execution_count": 11,
   "metadata": {},
   "outputs": [
    {
     "name": "stdout",
     "output_type": "stream",
     "text": [
      "2344901 2344901\n",
      "2612311.0 2612311.0\n",
      "1920438 1920438\n"
     ]
    }
   ],
   "source": [
    "# Еще раз сравним суммарную выручку в датасетах transactions и users\n",
    "\n",
    "print(transactions_test.revenue.sum(), users_test.total_revenue.sum())\n",
    "print(transactions_control_1.revenue.sum(), users_control_1.total_revenue.sum())\n",
    "print(transactions_control_2.revenue.sum(), users_control_2.total_revenue.sum())"
   ]
  },
  {
   "cell_type": "code",
   "execution_count": 12,
   "metadata": {},
   "outputs": [
    {
     "name": "stdout",
     "output_type": "stream",
     "text": [
      "<class 'pandas.core.frame.DataFrame'>\n",
      "RangeIndex: 273 entries, 0 to 272\n",
      "Data columns (total 8 columns):\n",
      " #   Column        Non-Null Count  Dtype         \n",
      "---  ------        --------------  -----         \n",
      " 0   uid           273 non-null    int64         \n",
      " 1   country       273 non-null    object        \n",
      " 2   joined_at     273 non-null    datetime64[ns]\n",
      " 3   paid_at       273 non-null    datetime64[ns]\n",
      " 4   revenue       273 non-null    int64         \n",
      " 5   payment_id    273 non-null    int64         \n",
      " 6   from_page     273 non-null    object        \n",
      " 7   product_type  273 non-null    object        \n",
      "dtypes: datetime64[ns](2), int64(3), object(3)\n",
      "memory usage: 17.2+ KB\n",
      "None\n",
      "<class 'pandas.core.frame.DataFrame'>\n",
      "Int64Index: 377 entries, 0 to 376\n",
      "Data columns (total 8 columns):\n",
      " #   Column        Non-Null Count  Dtype         \n",
      "---  ------        --------------  -----         \n",
      " 0   uid           377 non-null    float64       \n",
      " 1   country       377 non-null    object        \n",
      " 2   joined_at     377 non-null    datetime64[ns]\n",
      " 3   paid_at       377 non-null    datetime64[ns]\n",
      " 4   revenue       377 non-null    float64       \n",
      " 5   payment_id    377 non-null    float64       \n",
      " 6   from_page     377 non-null    object        \n",
      " 7   product_type  377 non-null    object        \n",
      "dtypes: datetime64[ns](2), float64(3), object(3)\n",
      "memory usage: 36.5+ KB\n",
      "None\n",
      "<class 'pandas.core.frame.DataFrame'>\n",
      "RangeIndex: 328 entries, 0 to 327\n",
      "Data columns (total 8 columns):\n",
      " #   Column        Non-Null Count  Dtype         \n",
      "---  ------        --------------  -----         \n",
      " 0   uid           328 non-null    int64         \n",
      " 1   country       328 non-null    object        \n",
      " 2   joined_at     328 non-null    datetime64[ns]\n",
      " 3   paid_at       328 non-null    datetime64[ns]\n",
      " 4   revenue       328 non-null    int64         \n",
      " 5   payment_id    328 non-null    int64         \n",
      " 6   from_page     328 non-null    object        \n",
      " 7   product_type  328 non-null    object        \n",
      "dtypes: datetime64[ns](2), int64(3), object(3)\n",
      "memory usage: 20.6+ KB\n",
      "None\n"
     ]
    }
   ],
   "source": [
    "# Информация о датасетах transactions \n",
    "print(transactions_test.info())\n",
    "print(transactions_control_1.info())\n",
    "print(transactions_control_2.info())"
   ]
  },
  {
   "cell_type": "code",
   "execution_count": 13,
   "metadata": {},
   "outputs": [
    {
     "name": "stdout",
     "output_type": "stream",
     "text": [
      "<class 'pandas.core.frame.DataFrame'>\n",
      "RangeIndex: 4308 entries, 0 to 4307\n",
      "Data columns (total 13 columns):\n",
      " #   Column            Non-Null Count  Dtype  \n",
      "---  ------            --------------  -----  \n",
      " 0   uid               4308 non-null   int64  \n",
      " 1   age               4308 non-null   int64  \n",
      " 2   attraction_coeff  4308 non-null   int64  \n",
      " 3   coins             49 non-null     float64\n",
      " 4   country           4308 non-null   object \n",
      " 5   visit_days        2978 non-null   object \n",
      " 6   gender            4308 non-null   int64  \n",
      " 7   age_filter_start  4308 non-null   int64  \n",
      " 8   age_filter_end    4308 non-null   int64  \n",
      " 9   views_count       4308 non-null   int64  \n",
      " 10  was_premium       408 non-null    float64\n",
      " 11  is_premium        157 non-null    float64\n",
      " 12  total_revenue     4308 non-null   int64  \n",
      "dtypes: float64(3), int64(8), object(2)\n",
      "memory usage: 437.7+ KB\n",
      "None\n",
      "<class 'pandas.core.frame.DataFrame'>\n",
      "RangeIndex: 4340 entries, 0 to 4339\n",
      "Data columns (total 13 columns):\n",
      " #   Column            Non-Null Count  Dtype  \n",
      "---  ------            --------------  -----  \n",
      " 0   uid               4340 non-null   int64  \n",
      " 1   age               4340 non-null   int64  \n",
      " 2   attraction_coeff  4340 non-null   int64  \n",
      " 3   coins             60 non-null     float64\n",
      " 4   country           4340 non-null   object \n",
      " 5   visit_days        3016 non-null   object \n",
      " 6   gender            4340 non-null   int64  \n",
      " 7   age_filter_start  4340 non-null   int64  \n",
      " 8   age_filter_end    4340 non-null   int64  \n",
      " 9   views_count       4340 non-null   int64  \n",
      " 10  was_premium       436 non-null    float64\n",
      " 11  is_premium        192 non-null    float64\n",
      " 12  total_revenue     4340 non-null   float64\n",
      "dtypes: float64(4), int64(7), object(2)\n",
      "memory usage: 440.9+ KB\n",
      "None\n",
      "<class 'pandas.core.frame.DataFrame'>\n",
      "RangeIndex: 4264 entries, 0 to 4263\n",
      "Data columns (total 13 columns):\n",
      " #   Column            Non-Null Count  Dtype  \n",
      "---  ------            --------------  -----  \n",
      " 0   uid               4264 non-null   int64  \n",
      " 1   age               4264 non-null   int64  \n",
      " 2   attraction_coeff  4264 non-null   int64  \n",
      " 3   coins             61 non-null     float64\n",
      " 4   country           4264 non-null   object \n",
      " 5   visit_days        2900 non-null   object \n",
      " 6   gender            4264 non-null   int64  \n",
      " 7   age_filter_start  4264 non-null   int64  \n",
      " 8   age_filter_end    4264 non-null   int64  \n",
      " 9   views_count       4264 non-null   int64  \n",
      " 10  was_premium       411 non-null    float64\n",
      " 11  is_premium        191 non-null    float64\n",
      " 12  total_revenue     4264 non-null   int64  \n",
      "dtypes: float64(3), int64(8), object(2)\n",
      "memory usage: 433.2+ KB\n",
      "None\n"
     ]
    }
   ],
   "source": [
    "# Информация о датасетах users \n",
    "print(users_test.info())\n",
    "print(users_control_1.info())\n",
    "print(users_control_2.info())"
   ]
  },
  {
   "cell_type": "markdown",
   "metadata": {},
   "source": [
    "**Выводы**: в датасетах transactions все ок, в users пропущенные значения присутствуют в четырех колонках. Выдвинем гипотезы об их возникновении:\n",
    "- coins (не все юзеры используют внутреннюю валюту), \n",
    "- visit_days (часть пользователей установило приложение и больше в него не заходило), \n",
    "- was_premium, is_premium (большая часть пользователей остановились на бесплатной версии)"
   ]
  },
  {
   "cell_type": "markdown",
   "metadata": {},
   "source": [
    "## 1. Проверка выборок \n",
    "\n",
    "Перед проведением A/A теста и A/B теста проанализируем группы test, control_1, control_2 на однородность (по странам, дате регистрации, полу и возрасту). Для проведения A/A теста между сабой будем сравнивать control_1 и control_2."
   ]
  },
  {
   "cell_type": "markdown",
   "metadata": {},
   "source": [
    "### 1.1. Дата регистрации"
   ]
  },
  {
   "cell_type": "code",
   "execution_count": 20,
   "metadata": {},
   "outputs": [],
   "source": [
    "# Создание колонки с датой регистрации (год-месяц)\n",
    "\n",
    "transactions_test['year_month'] = transactions_test.joined_at.dt.to_period(\"M\")\n",
    "transactions_control_1['year_month'] = transactions_control_1.joined_at.dt.to_period(\"M\")\n",
    "transactions_control_2['year_month'] = transactions_control_2.joined_at.dt.to_period(\"M\")\n",
    "\n",
    "pd.options.mode.chained_assignment = None"
   ]
  },
  {
   "cell_type": "code",
   "execution_count": 21,
   "metadata": {},
   "outputs": [],
   "source": [
    "# Расчет количества уникальных юзеров по дате регистрации\n",
    "\n",
    "date_joined_test = transactions_test.groupby('year_month', as_index=False).agg(count_users=('uid', 'nunique'))\n",
    "date_joined_control_1 = transactions_control_1.groupby('year_month', as_index=False).agg(count_users=('uid', 'nunique'))\n",
    "date_joined_control_2 = transactions_control_2.groupby('year_month', as_index=False).agg(count_users=('uid', 'nunique'))"
   ]
  },
  {
   "cell_type": "code",
   "execution_count": 22,
   "metadata": {},
   "outputs": [
    {
     "data": {
      "image/png": "[encoded data removed]",
      "text/plain": [
       "<Figure size 1080x1152 with 3 Axes>"
      ]
     },
     "metadata": {},
     "output_type": "display_data"
    }
   ],
   "source": [
    "# Построение графиков\n",
    "plt.figure(figsize=(15, 16))\n",
    "plt.suptitle(\"Count of users by date joining\", y=0.92)\n",
    "\n",
    "plt.subplot(3, 1, 1)\n",
    "sns.barplot(x=\"year_month\", y=\"count_users\", data=date_joined_test);\n",
    "plt.xticks(rotation=45);\n",
    "plt.title(\"Test\")\n",
    "plt.xlabel(\"\")\n",
    "\n",
    "plt.subplot(3, 1, 2)\n",
    "sns.barplot(x=\"year_month\", y=\"count_users\", data=date_joined_control_1);\n",
    "plt.xticks(rotation=45);\n",
    "plt.title(\"Control_1\");\n",
    "plt.xlabel(\"\")\n",
    "\n",
    "plt.subplot(3, 1, 3)\n",
    "sns.barplot(x=\"year_month\", y=\"count_users\", data=date_joined_control_2);\n",
    "plt.xticks(rotation=45);\n",
    "plt.title(\"Control_2\");\n",
    "plt.xlabel(\"\")\n",
    "\n",
    "plt.subplots_adjust(hspace = 0.5)"
   ]
  },
  {
   "cell_type": "markdown",
   "metadata": {},
   "source": [
    "**Вывод:** во всех группах данные с января по октябрь 2017 года, но в группе control_1 есть юзеры регистрацией в 2015 году (их удалим)."
   ]
  },
  {
   "cell_type": "code",
   "execution_count": 23,
   "metadata": {},
   "outputs": [],
   "source": [
    "# Удаление данных за 2015 год\n",
    "\n",
    "transactions_control_1 = transactions_control_1.query(\"joined_at > '2017-01'\")"
   ]
  },
  {
   "cell_type": "markdown",
   "metadata": {},
   "source": [
    "### 1.2. Количество юзеров по  странам в transactions"
   ]
  },
  {
   "cell_type": "code",
   "execution_count": 24,
   "metadata": {},
   "outputs": [],
   "source": [
    "# Подсчет количества юзеров по странам \n",
    "\n",
    "country_B = transactions_test.groupby('country', as_index=False).agg(count_users=('uid', 'nunique')).sort_values('country')\n",
    "country_A_1 = transactions_control_1.groupby('country', as_index=False).agg(count_users=('uid', 'nunique')).sort_values('country')\n",
    "country_A_2 = transactions_control_2.groupby('country', as_index=False).agg(count_users=('uid', 'nunique')).sort_values('country')"
   ]
  },
  {
   "cell_type": "code",
   "execution_count": 25,
   "metadata": {},
   "outputs": [
    {
     "data": {
      "text/html": [
       "<div>\n",
       "<style scoped>\n",
       "    .dataframe tbody tr th:only-of-type {\n",
       "        vertical-align: middle;\n",
       "    }\n",
       "\n",
       "    .dataframe tbody tr th {\n",
       "        vertical-align: top;\n",
       "    }\n",
       "\n",
       "    .dataframe thead th {\n",
       "        text-align: right;\n",
       "    }\n",
       "</style>\n",
       "<table border=\"1\" class=\"dataframe\">\n",
       "  <thead>\n",
       "    <tr style=\"text-align: right;\">\n",
       "      <th></th>\n",
       "      <th>country</th>\n",
       "      <th>Test</th>\n",
       "      <th>Control_1</th>\n",
       "      <th>Control_2</th>\n",
       "    </tr>\n",
       "  </thead>\n",
       "  <tbody>\n",
       "    <tr>\n",
       "      <th>0</th>\n",
       "      <td>Argentina</td>\n",
       "      <td>7.0</td>\n",
       "      <td>12.0</td>\n",
       "      <td>10.0</td>\n",
       "    </tr>\n",
       "    <tr>\n",
       "      <th>1</th>\n",
       "      <td>Australia</td>\n",
       "      <td>1.0</td>\n",
       "      <td>3.0</td>\n",
       "      <td>2.0</td>\n",
       "    </tr>\n",
       "    <tr>\n",
       "      <th>2</th>\n",
       "      <td>Belgium</td>\n",
       "      <td>4.0</td>\n",
       "      <td>4.0</td>\n",
       "      <td>10.0</td>\n",
       "    </tr>\n",
       "    <tr>\n",
       "      <th>3</th>\n",
       "      <td>Canada</td>\n",
       "      <td>6.0</td>\n",
       "      <td>9.0</td>\n",
       "      <td>4.0</td>\n",
       "    </tr>\n",
       "    <tr>\n",
       "      <th>4</th>\n",
       "      <td>Chile</td>\n",
       "      <td>4.0</td>\n",
       "      <td>10.0</td>\n",
       "      <td>11.0</td>\n",
       "    </tr>\n",
       "    <tr>\n",
       "      <th>5</th>\n",
       "      <td>France</td>\n",
       "      <td>13.0</td>\n",
       "      <td>22.0</td>\n",
       "      <td>19.0</td>\n",
       "    </tr>\n",
       "    <tr>\n",
       "      <th>6</th>\n",
       "      <td>Germany</td>\n",
       "      <td>7.0</td>\n",
       "      <td>5.0</td>\n",
       "      <td>5.0</td>\n",
       "    </tr>\n",
       "    <tr>\n",
       "      <th>7</th>\n",
       "      <td>Israel</td>\n",
       "      <td>5.0</td>\n",
       "      <td>14.0</td>\n",
       "      <td>6.0</td>\n",
       "    </tr>\n",
       "    <tr>\n",
       "      <th>8</th>\n",
       "      <td>Italy</td>\n",
       "      <td>9.0</td>\n",
       "      <td>17.0</td>\n",
       "      <td>16.0</td>\n",
       "    </tr>\n",
       "    <tr>\n",
       "      <th>9</th>\n",
       "      <td>Latvia</td>\n",
       "      <td>1.0</td>\n",
       "      <td>NaN</td>\n",
       "      <td>NaN</td>\n",
       "    </tr>\n",
       "    <tr>\n",
       "      <th>10</th>\n",
       "      <td>Mexico</td>\n",
       "      <td>1.0</td>\n",
       "      <td>NaN</td>\n",
       "      <td>NaN</td>\n",
       "    </tr>\n",
       "    <tr>\n",
       "      <th>11</th>\n",
       "      <td>Spain</td>\n",
       "      <td>15.0</td>\n",
       "      <td>9.0</td>\n",
       "      <td>12.0</td>\n",
       "    </tr>\n",
       "    <tr>\n",
       "      <th>12</th>\n",
       "      <td>Switzerland</td>\n",
       "      <td>3.0</td>\n",
       "      <td>3.0</td>\n",
       "      <td>3.0</td>\n",
       "    </tr>\n",
       "    <tr>\n",
       "      <th>13</th>\n",
       "      <td>Turkey</td>\n",
       "      <td>1.0</td>\n",
       "      <td>3.0</td>\n",
       "      <td>1.0</td>\n",
       "    </tr>\n",
       "    <tr>\n",
       "      <th>14</th>\n",
       "      <td>United Arab Emirates</td>\n",
       "      <td>9.0</td>\n",
       "      <td>7.0</td>\n",
       "      <td>5.0</td>\n",
       "    </tr>\n",
       "    <tr>\n",
       "      <th>15</th>\n",
       "      <td>United Kingdom (Great Britain)</td>\n",
       "      <td>8.0</td>\n",
       "      <td>10.0</td>\n",
       "      <td>10.0</td>\n",
       "    </tr>\n",
       "    <tr>\n",
       "      <th>16</th>\n",
       "      <td>United States of America</td>\n",
       "      <td>52.0</td>\n",
       "      <td>60.0</td>\n",
       "      <td>64.0</td>\n",
       "    </tr>\n",
       "    <tr>\n",
       "      <th>17</th>\n",
       "      <td>India</td>\n",
       "      <td>NaN</td>\n",
       "      <td>2.0</td>\n",
       "      <td>NaN</td>\n",
       "    </tr>\n",
       "    <tr>\n",
       "      <th>18</th>\n",
       "      <td>Portugal</td>\n",
       "      <td>NaN</td>\n",
       "      <td>2.0</td>\n",
       "      <td>6.0</td>\n",
       "    </tr>\n",
       "    <tr>\n",
       "      <th>19</th>\n",
       "      <td>Austria</td>\n",
       "      <td>NaN</td>\n",
       "      <td>NaN</td>\n",
       "      <td>1.0</td>\n",
       "    </tr>\n",
       "    <tr>\n",
       "      <th>20</th>\n",
       "      <td>Lithuania</td>\n",
       "      <td>NaN</td>\n",
       "      <td>NaN</td>\n",
       "      <td>1.0</td>\n",
       "    </tr>\n",
       "    <tr>\n",
       "      <th>21</th>\n",
       "      <td>Ukraine</td>\n",
       "      <td>NaN</td>\n",
       "      <td>NaN</td>\n",
       "      <td>1.0</td>\n",
       "    </tr>\n",
       "  </tbody>\n",
       "</table>\n",
       "</div>"
      ],
      "text/plain": [
       "                           country  Test  Control_1  Control_2\n",
       "0                        Argentina   7.0       12.0       10.0\n",
       "1                        Australia   1.0        3.0        2.0\n",
       "2                          Belgium   4.0        4.0       10.0\n",
       "3                           Canada   6.0        9.0        4.0\n",
       "4                            Chile   4.0       10.0       11.0\n",
       "5                           France  13.0       22.0       19.0\n",
       "6                          Germany   7.0        5.0        5.0\n",
       "7                           Israel   5.0       14.0        6.0\n",
       "8                            Italy   9.0       17.0       16.0\n",
       "9                           Latvia   1.0        NaN        NaN\n",
       "10                          Mexico   1.0        NaN        NaN\n",
       "11                           Spain  15.0        9.0       12.0\n",
       "12                     Switzerland   3.0        3.0        3.0\n",
       "13                          Turkey   1.0        3.0        1.0\n",
       "14            United Arab Emirates   9.0        7.0        5.0\n",
       "15  United Kingdom (Great Britain)   8.0       10.0       10.0\n",
       "16        United States of America  52.0       60.0       64.0\n",
       "17                           India   NaN        2.0        NaN\n",
       "18                        Portugal   NaN        2.0        6.0\n",
       "19                         Austria   NaN        NaN        1.0\n",
       "20                       Lithuania   NaN        NaN        1.0\n",
       "21                         Ukraine   NaN        NaN        1.0"
      ]
     },
     "execution_count": 25,
     "metadata": {},
     "output_type": "execute_result"
    }
   ],
   "source": [
    "# Объединение таблиц с подсчетом количества юзеров по странам \n",
    "\n",
    "country_A = country_A_1.merge(country_A_2, how='outer', on='country')\n",
    "country = country_B.merge(country_A, how='outer', on='country')\n",
    "country = country.rename(columns={'count_users': 'Test', 'count_users_x': 'Control_1', 'count_users_y': 'Control_2'})\n",
    "country"
   ]
  },
  {
   "cell_type": "markdown",
   "metadata": {},
   "source": [
    "**Вывод**: контрольные группы отличаются по странам. Исключим пользователей из India, Austria, Lithuania, Ukraine"
   ]
  },
  {
   "cell_type": "code",
   "execution_count": 26,
   "metadata": {},
   "outputs": [],
   "source": [
    "# Создание списка стран, которые будут исключены из датасетов\n",
    "exclude_country = ['India', 'Austria', 'Lithuania', 'Ukraine']"
   ]
  },
  {
   "cell_type": "code",
   "execution_count": 27,
   "metadata": {},
   "outputs": [],
   "source": [
    "transactions_control_1 = transactions_control_1.astype({'country': 'str'})"
   ]
  },
  {
   "cell_type": "code",
   "execution_count": 28,
   "metadata": {},
   "outputs": [],
   "source": [
    "# Удаление стран\n",
    "transactions_control_1 = transactions_control_1.query(\"country not in @exclude_country\")"
   ]
  },
  {
   "cell_type": "code",
   "execution_count": 30,
   "metadata": {},
   "outputs": [
    {
     "data": {
      "text/html": [
       "<div>\n",
       "<style scoped>\n",
       "    .dataframe tbody tr th:only-of-type {\n",
       "        vertical-align: middle;\n",
       "    }\n",
       "\n",
       "    .dataframe tbody tr th {\n",
       "        vertical-align: top;\n",
       "    }\n",
       "\n",
       "    .dataframe thead th {\n",
       "        text-align: right;\n",
       "    }\n",
       "</style>\n",
       "<table border=\"1\" class=\"dataframe\">\n",
       "  <thead>\n",
       "    <tr style=\"text-align: right;\">\n",
       "      <th></th>\n",
       "      <th>uid</th>\n",
       "      <th>country</th>\n",
       "      <th>joined_at</th>\n",
       "      <th>paid_at</th>\n",
       "      <th>revenue</th>\n",
       "      <th>payment_id</th>\n",
       "      <th>from_page</th>\n",
       "      <th>product_type</th>\n",
       "      <th>year_month</th>\n",
       "    </tr>\n",
       "  </thead>\n",
       "  <tbody>\n",
       "  </tbody>\n",
       "</table>\n",
       "</div>"
      ],
      "text/plain": [
       "Empty DataFrame\n",
       "Columns: [uid, country, joined_at, paid_at, revenue, payment_id, from_page, product_type, year_month]\n",
       "Index: []"
      ]
     },
     "execution_count": 30,
     "metadata": {},
     "output_type": "execute_result"
    }
   ],
   "source": [
    "# Проверка\n",
    "transactions_control_1.query(\"country in ['India', 'Austria', 'Lithuania', 'Ukraine']\")"
   ]
  },
  {
   "cell_type": "markdown",
   "metadata": {},
   "source": [
    "### 1.3. Количество юзеров по полу"
   ]
  },
  {
   "cell_type": "code",
   "execution_count": 31,
   "metadata": {},
   "outputs": [],
   "source": [
    "# Добавление колонки с обозначением контрольной группы\n",
    "users_test['experiment_group'] = 'test'\n",
    "users_control_1['experiment_group'] = 'control_1'\n",
    "users_control_2['experiment_group'] = 'control_2'\n",
    "\n",
    "\n",
    "# Объединение таблиц в одну\n",
    "users = pd.concat([users_test, users_control_1, users_control_2], ignore_index=True)"
   ]
  },
  {
   "cell_type": "code",
   "execution_count": 32,
   "metadata": {},
   "outputs": [
    {
     "data": {
      "image/png": "[encoded data removed]",
      "text/plain": [
       "<Figure size 432x288 with 1 Axes>"
      ]
     },
     "metadata": {},
     "output_type": "display_data"
    }
   ],
   "source": [
    "# Распределение пользователей в контрольных группах по полу (0 - женщины, 1 - мужчины)\n",
    "\n",
    "users_gender = users.groupby(['experiment_group', 'gender'], as_index=False).agg(count_gender=('uid', 'nunique'))\n",
    "ax=sns.barplot(\n",
    "    x='experiment_group', \n",
    "    y='count_gender', \n",
    "    data=users_gender, \n",
    "    hue='gender',\n",
    "    palette='deep',);\n",
    "ax.set(xlabel='', ylabel='Count users', title='Count of users by gender\\n');"
   ]
  },
  {
   "cell_type": "markdown",
   "metadata": {},
   "source": [
    "**Вывод:** распределение пользователей по полу во всех группах примерно одинаковое. Стоит отметить, что женщин в выборках намного меньше, чем мужчин. Далее при проведении A/B теста нецелесообразно проводить разбивку по полу. "
   ]
  },
  {
   "cell_type": "markdown",
   "metadata": {},
   "source": [
    "### 1.4. Распредлениие пользователей по возрасту"
   ]
  },
  {
   "cell_type": "code",
   "execution_count": 33,
   "metadata": {},
   "outputs": [
    {
     "data": {
      "image/png": "[encoded data removed]",
      "text/plain": [
       "<Figure size 432x288 with 1 Axes>"
      ]
     },
     "metadata": {},
     "output_type": "display_data"
    }
   ],
   "source": [
    "# Распределение пользователей по возрасту\n",
    "\n",
    "ax=sns.boxplot(\n",
    "    x='experiment_group', \n",
    "    y='age', \n",
    "    data=users, \n",
    "    palette='deep');\n",
    "ax.set(xlabel='', ylabel='Age', title='Age users by experiment group \\n');"
   ]
  },
  {
   "cell_type": "code",
   "execution_count": 34,
   "metadata": {},
   "outputs": [
    {
     "data": {
      "image/png": "[encoded data removed]",
      "text/plain": [
       "<Figure size 1440x720 with 1 Axes>"
      ]
     },
     "metadata": {},
     "output_type": "display_data"
    }
   ],
   "source": [
    "users_age = users.groupby(['experiment_group', 'age'], as_index=False).agg(count_age=('uid', 'nunique'))\n",
    "plt.figure(figsize=(20, 10))\n",
    "ax=sns.barplot(\n",
    "    x='age', \n",
    "    y='count_age', \n",
    "    data=users_age, \n",
    "    hue='experiment_group',\n",
    "    palette='deep',);\n",
    "ax.set(xlabel='', ylabel='Count users', title='Count of users by gender\\n');"
   ]
  },
  {
   "cell_type": "markdown",
   "metadata": {},
   "source": [
    "**Вывод:** распределение пользователей по возрастам во всех группах примерно одинаковое (медианы равны во всех трех группах), присутсвуют выбросы. Очень высокий возраст пользователй можно объяснить тем, что часть людей указали его неверно. "
   ]
  },
  {
   "cell_type": "markdown",
   "metadata": {},
   "source": [
    "## 2. Проведение A/A теста\n",
    "\n",
    "Перед проведение A/B теста проверим корректность работы системы спллитования. При проведении A/A теста будет оценена основная метрика CR в покупку premium_no_trial, ARPU, ARPPU."
   ]
  },
  {
   "cell_type": "code",
   "execution_count": 35,
   "metadata": {},
   "outputs": [],
   "source": [
    "# Добавление колонки с обозначением экспериментальной группы\n",
    "\n",
    "users_control_1['experiment_group'] = 'A_1'\n",
    "users_control_2['experiment_group'] = 'A_2'\n",
    "\n",
    "# Объединение таблиц в одну\n",
    "\n",
    "users = pd.concat([users_control_1, users_control_2], ignore_index=True)\n",
    "\n",
    "transactions_control_1['experiment_group'] = 'A_1'\n",
    "transactions_control_2['experiment_group'] = 'A_2'\n",
    "\n",
    "pd.options.mode.chained_assignment = None\n",
    "\n",
    "# Объединение таблиц в одну\n",
    "\n",
    "transactions = pd.concat([transactions_control_1, transactions_control_2], ignore_index=True)"
   ]
  },
  {
   "cell_type": "code",
   "execution_count": 36,
   "metadata": {},
   "outputs": [],
   "source": [
    "# Отбор пользователей, оплативших premium_no_trial впервые\n",
    "first_premium = transactions.query(\"product_type=='premium_no_trial'\") \\\n",
    "                            .groupby('uid', as_index=False) \\\n",
    "                            .agg(first_premium=('paid_at', 'min')) "
   ]
  },
  {
   "cell_type": "code",
   "execution_count": 37,
   "metadata": {},
   "outputs": [],
   "source": [
    "# Присвоение 1 первой покупке premium_no_trial\n",
    "\n",
    "first_premium['purchase_premium'] = 1"
   ]
  },
  {
   "cell_type": "code",
   "execution_count": 38,
   "metadata": {},
   "outputs": [],
   "source": [
    "# Объединение таблиц users_control и first_premium\n",
    "\n",
    "users_premium = users.merge(first_premium, how='left', on='uid')"
   ]
  },
  {
   "cell_type": "code",
   "execution_count": 39,
   "metadata": {},
   "outputs": [],
   "source": [
    "# Замена NaN  в колонке 'purchase_premium' на 0\n",
    "\n",
    "users_premium['purchase_premium'] = users_premium.purchase_premium.fillna(0)"
   ]
  },
  {
   "cell_type": "code",
   "execution_count": 40,
   "metadata": {},
   "outputs": [
    {
     "data": {
      "text/html": [
       "<div>\n",
       "<style scoped>\n",
       "    .dataframe tbody tr th:only-of-type {\n",
       "        vertical-align: middle;\n",
       "    }\n",
       "\n",
       "    .dataframe tbody tr th {\n",
       "        vertical-align: top;\n",
       "    }\n",
       "\n",
       "    .dataframe thead th {\n",
       "        text-align: right;\n",
       "    }\n",
       "</style>\n",
       "<table border=\"1\" class=\"dataframe\">\n",
       "  <thead>\n",
       "    <tr style=\"text-align: right;\">\n",
       "      <th></th>\n",
       "      <th>experiment_group</th>\n",
       "      <th>conversion</th>\n",
       "    </tr>\n",
       "  </thead>\n",
       "  <tbody>\n",
       "    <tr>\n",
       "      <th>0</th>\n",
       "      <td>A_1</td>\n",
       "      <td>2.235</td>\n",
       "    </tr>\n",
       "    <tr>\n",
       "      <th>1</th>\n",
       "      <td>A_2</td>\n",
       "      <td>2.392</td>\n",
       "    </tr>\n",
       "  </tbody>\n",
       "</table>\n",
       "</div>"
      ],
      "text/plain": [
       "  experiment_group  conversion\n",
       "0              A_1       2.235\n",
       "1              A_2       2.392"
      ]
     },
     "execution_count": 40,
     "metadata": {},
     "output_type": "execute_result"
    }
   ],
   "source": [
    "# Расчет конверсии\n",
    "\n",
    "conversion_control = users_premium.groupby('experiment_group', as_index = False) \\\n",
    "                       .agg({'purchase_premium': 'mean'}) \\\n",
    "                       .rename(columns = {'purchase_premium': 'conversion'})\n",
    "\n",
    "conversion_control['conversion'] = conversion_control.conversion.apply(lambda x: round(x*100, 3))\n",
    "conversion_control"
   ]
  },
  {
   "cell_type": "markdown",
   "metadata": {},
   "source": [
    "### 2.2. Проверка на равенство дисперсий"
   ]
  },
  {
   "cell_type": "code",
   "execution_count": 41,
   "metadata": {},
   "outputs": [
    {
     "data": {
      "text/plain": [
       "LeveneResult(statistic=0.9396302932956238, pvalue=0.33240019272913945)"
      ]
     },
     "execution_count": 41,
     "metadata": {},
     "output_type": "execute_result"
    }
   ],
   "source": [
    "st.levene(users_premium.query(\"experiment_group == 'A_1'\").purchase_premium, \n",
    "          users_premium.query(\"experiment_group == 'A_2'\").purchase_premium, center='mean')"
   ]
  },
  {
   "cell_type": "markdown",
   "metadata": {},
   "source": [
    "Дисперсии равны"
   ]
  },
  {
   "cell_type": "code",
   "execution_count": 42,
   "metadata": {},
   "outputs": [
    {
     "data": {
      "text/plain": [
       "LeveneResult(statistic=5.493377957803269, pvalue=0.01936824176674399)"
      ]
     },
     "execution_count": 42,
     "metadata": {},
     "output_type": "execute_result"
    }
   ],
   "source": [
    "st.levene(transactions.query(\"experiment_group == 'A_1'\").revenue, \n",
    "          transactions.query(\"experiment_group == 'A_2'\").revenue, center='mean')"
   ]
  },
  {
   "cell_type": "markdown",
   "metadata": {},
   "source": [
    "Дисперсии не равны, применяем непараметрический t-тест "
   ]
  },
  {
   "cell_type": "code",
   "execution_count": 43,
   "metadata": {},
   "outputs": [
    {
     "data": {
      "text/plain": [
       "LeveneResult(statistic=5.089485690322151, pvalue=0.024096338343375552)"
      ]
     },
     "execution_count": 43,
     "metadata": {},
     "output_type": "execute_result"
    }
   ],
   "source": [
    "st.levene(users.query(\"experiment_group == 'A_1'\").total_revenue, \n",
    "          users.query(\"experiment_group == 'A_2'\").total_revenue, center='mean')"
   ]
  },
  {
   "cell_type": "code",
   "execution_count": null,
   "metadata": {},
   "outputs": [],
   "source": [
    "Дисперсии не равны, применяем непараметрический t-тест "
   ]
  },
  {
   "cell_type": "markdown",
   "metadata": {},
   "source": [
    "**Гипотезы для A/A теста**\n",
    "\n",
    "H_0 - нет статистически значимых различий между контрольными группами\n",
    "\n",
    "H_1 - контрольные группы статистически значимо различаются \n",
    "\n",
    "Примем уровень значимости альфа равным 0,05"
   ]
  },
  {
   "cell_type": "code",
   "execution_count": 44,
   "metadata": {},
   "outputs": [
    {
     "data": {
      "application/vnd.jupyter.widget-view+json": {
       "model_id": "5c487e0f0f004223b8e0e4a554505567",
       "version_major": 2,
       "version_minor": 0
      },
      "text/plain": [
       "HBox(children=(FloatProgress(value=0.0, max=1000.0), HTML(value='')))"
      ]
     },
     "metadata": {},
     "output_type": "display_data"
    },
    {
     "name": "stdout",
     "output_type": "stream",
     "text": [
      "\n"
     ]
    },
    {
     "data": {
      "image/png": "[encoded data removed]",
      "text/plain": [
       "<Figure size 432x288 with 1 Axes>"
      ]
     },
     "metadata": {},
     "output_type": "display_data"
    },
    {
     "data": {
      "text/plain": [
       "0.019"
      ]
     },
     "execution_count": 44,
     "metadata": {},
     "output_type": "execute_result"
    }
   ],
   "source": [
    "# A/A тест по CR в premium_no_trial\n",
    "\n",
    "n = 100000\n",
    "simulations = 1000\n",
    "n_s = 1000\n",
    "res = []\n",
    "\n",
    "for i in tqdm(range(simulations)):\n",
    "    s1 = users_premium.query(\"experiment_group == 'A_1'\").purchase_premium.sample(n_s, replace = False).values\n",
    "    s2 = users_premium.query(\"experiment_group == 'A_2'\").purchase_premium.sample(n_s, replace = False).values\n",
    "    res.append(stats.ttest_ind(s1, s2)[1])\n",
    "\n",
    "plt.hist(res, bins = 50)\n",
    "plt.style.use('ggplot')\n",
    "plt.xlabel('pvalues')\n",
    "plt.ylabel('frequency')\n",
    "plt.title(\"Histogram of ttest A/A simulations \")\n",
    "plt.show()\n",
    "\n",
    "sum(np.array(res) <0.05) / simulations"
   ]
  },
  {
   "cell_type": "code",
   "execution_count": 45,
   "metadata": {},
   "outputs": [],
   "source": [
    "transactions_ARPPU = transactions.groupby(['uid', 'experiment_group'],as_index=False) \\\n",
    "                                .agg(total_revenue=('revenue', 'sum'))[['uid', 'experiment_group', 'total_revenue']]"
   ]
  },
  {
   "cell_type": "code",
   "execution_count": 46,
   "metadata": {},
   "outputs": [
    {
     "data": {
      "application/vnd.jupyter.widget-view+json": {
       "model_id": "0e0921b882ba46b2a3cbf3e15af6b408",
       "version_major": 2,
       "version_minor": 0
      },
      "text/plain": [
       "HBox(children=(FloatProgress(value=0.0, max=1000.0), HTML(value='')))"
      ]
     },
     "metadata": {},
     "output_type": "display_data"
    },
    {
     "name": "stdout",
     "output_type": "stream",
     "text": [
      "\n"
     ]
    },
    {
     "data": {
      "image/png": "[encoded data removed]",
      "text/plain": [
       "<Figure size 432x288 with 1 Axes>"
      ]
     },
     "metadata": {},
     "output_type": "display_data"
    },
    {
     "data": {
      "text/plain": [
       "0.014"
      ]
     },
     "execution_count": 46,
     "metadata": {},
     "output_type": "execute_result"
    }
   ],
   "source": [
    "# A/A тест по ARPPU\n",
    "\n",
    "n = 100000\n",
    "simulations = 1000\n",
    "n_s = 100\n",
    "res = []\n",
    "\n",
    "for i in tqdm(range(simulations)):\n",
    "    s1 = transactions_ARPPU.query(\"experiment_group == 'A_1'\").total_revenue.sample(n_s, replace = False).values\n",
    "    s2 = transactions_ARPPU.query(\"experiment_group == 'A_2'\").total_revenue.sample(n_s, replace = False).values\n",
    "    res.append(stats.ttest_ind(s1, s2, equal_var = False)[1])\n",
    "\n",
    "plt.hist(res, bins = 50)\n",
    "plt.style.use('ggplot')\n",
    "plt.xlabel('pvalues')\n",
    "plt.ylabel('frequency')\n",
    "plt.title(\"Histogram of ttest A/A simulations \")\n",
    "plt.show()\n",
    "\n",
    "sum(np.array(res) <0.05) / simulations"
   ]
  },
  {
   "cell_type": "code",
   "execution_count": 47,
   "metadata": {},
   "outputs": [
    {
     "data": {
      "application/vnd.jupyter.widget-view+json": {
       "model_id": "b5580e202149407dbd33c6c395de789c",
       "version_major": 2,
       "version_minor": 0
      },
      "text/plain": [
       "HBox(children=(FloatProgress(value=0.0, max=1000.0), HTML(value='')))"
      ]
     },
     "metadata": {},
     "output_type": "display_data"
    },
    {
     "name": "stdout",
     "output_type": "stream",
     "text": [
      "\n"
     ]
    },
    {
     "data": {
      "image/png": "[encoded data removed]",
      "text/plain": [
       "<Figure size 432x288 with 1 Axes>"
      ]
     },
     "metadata": {},
     "output_type": "display_data"
    },
    {
     "data": {
      "text/plain": [
       "0.025"
      ]
     },
     "execution_count": 47,
     "metadata": {},
     "output_type": "execute_result"
    }
   ],
   "source": [
    "# A/A тест по ARPU\n",
    "\n",
    "n = 100000\n",
    "simulations = 1000\n",
    "n_s = 1000\n",
    "res = []\n",
    "\n",
    "for i in tqdm(range(simulations)):\n",
    "    s1 = users.query(\"experiment_group == 'A_1'\").total_revenue.sample(n_s, replace = False).values\n",
    "    s2 = users.query(\"experiment_group == 'A_2'\").total_revenue.sample(n_s, replace = False).values\n",
    "    res.append(stats.ttest_ind(s1, s2, equal_var = False)[1])\n",
    "\n",
    "plt.hist(res, bins = 50)\n",
    "plt.style.use('ggplot')\n",
    "plt.xlabel('pvalues')\n",
    "plt.ylabel('frequency')\n",
    "plt.title(\"Histogram of ttest A/A simulations \")\n",
    "plt.show()\n",
    "\n",
    "sum(np.array(res) <0.05) / simulations"
   ]
  },
  {
   "cell_type": "markdown",
   "metadata": {},
   "source": [
    "**Вывод:** во всех трех случаях p-value < 0.05, следовательно система сплитования работает корректно."
   ]
  },
  {
   "cell_type": "markdown",
   "metadata": {},
   "source": [
    "## 3. A/B тест"
   ]
  },
  {
   "cell_type": "code",
   "execution_count": 48,
   "metadata": {},
   "outputs": [],
   "source": [
    "#Добавим в каждую таблицу столбец с обозначением экспериментальной группы и объединим три таблицы в одну\n",
    "\n",
    "users_test['experiment_group'] = 'B'\n",
    "users_control_1['experiment_group'] = 'A'\n",
    "users_control_2['experiment_group'] = 'A'\n",
    "\n",
    "users_AB = pd.concat([users_test, users_control_1, users_control_2], ignore_index=True)\n",
    "\n",
    "transactions_test['experiment_group'] = 'B'\n",
    "transactions_control_1['experiment_group'] = 'A'\n",
    "transactions_control_2['experiment_group'] = 'A'\n",
    "\n",
    "transactions_AB = pd.concat([transactions_test, transactions_control_1, transactions_control_2], ignore_index=True)"
   ]
  },
  {
   "cell_type": "markdown",
   "metadata": {},
   "source": [
    "### CR"
   ]
  },
  {
   "cell_type": "code",
   "execution_count": 58,
   "metadata": {},
   "outputs": [
    {
     "data": {
      "text/plain": [
       "(266, 2)"
      ]
     },
     "execution_count": 58,
     "metadata": {},
     "output_type": "execute_result"
    }
   ],
   "source": [
    "# Для каждого юзера отберем только первую покупку premium_no_trial\n",
    "tr_premium = transactions_AB.query(\"product_type=='premium_no_trial'\") \\\n",
    "                            .groupby('uid', as_index=False) \\\n",
    "                            .agg(first_purchase=('paid_at', 'min')) "
   ]
  },
  {
   "cell_type": "code",
   "execution_count": 59,
   "metadata": {},
   "outputs": [],
   "source": [
    "# Присвоение значения 1, если пользователь приобрел premium_no_trial\n",
    "tr_premium['first_purchase'] = 1"
   ]
  },
  {
   "cell_type": "code",
   "execution_count": 61,
   "metadata": {},
   "outputs": [],
   "source": [
    "# Объединение таблиц\n",
    "\n",
    "u_premium = users_AB.merge(tr_premium, how='left', on='uid')"
   ]
  },
  {
   "cell_type": "code",
   "execution_count": 62,
   "metadata": {},
   "outputs": [],
   "source": [
    "# Замена пропущенных значений в колонке first_purchase на 0\n",
    "\n",
    "u_premium['first_purchase'] = u_premium.first_purchase.fillna(0)"
   ]
  },
  {
   "cell_type": "code",
   "execution_count": 64,
   "metadata": {},
   "outputs": [
    {
     "data": {
      "text/html": [
       "<div>\n",
       "<style scoped>\n",
       "    .dataframe tbody tr th:only-of-type {\n",
       "        vertical-align: middle;\n",
       "    }\n",
       "\n",
       "    .dataframe tbody tr th {\n",
       "        vertical-align: top;\n",
       "    }\n",
       "\n",
       "    .dataframe thead th {\n",
       "        text-align: right;\n",
       "    }\n",
       "</style>\n",
       "<table border=\"1\" class=\"dataframe\">\n",
       "  <thead>\n",
       "    <tr style=\"text-align: right;\">\n",
       "      <th></th>\n",
       "      <th>experiment_group</th>\n",
       "      <th>conversion</th>\n",
       "    </tr>\n",
       "  </thead>\n",
       "  <tbody>\n",
       "    <tr>\n",
       "      <th>0</th>\n",
       "      <td>A</td>\n",
       "      <td>2.313</td>\n",
       "    </tr>\n",
       "    <tr>\n",
       "      <th>1</th>\n",
       "      <td>B</td>\n",
       "      <td>1.555</td>\n",
       "    </tr>\n",
       "  </tbody>\n",
       "</table>\n",
       "</div>"
      ],
      "text/plain": [
       "  experiment_group  conversion\n",
       "0                A       2.313\n",
       "1                B       1.555"
      ]
     },
     "execution_count": 64,
     "metadata": {},
     "output_type": "execute_result"
    }
   ],
   "source": [
    "# Расчет CR\n",
    "\n",
    "u_cr = u_premium.groupby('experiment_group', as_index = False) \\\n",
    "                       .agg(conversion=('first_purchase', 'mean')) \n",
    "\n",
    "u_cr['conversion'] = u_cr.conversion.apply(lambda x: round(x*100, 3))\n",
    "u_cr"
   ]
  },
  {
   "cell_type": "code",
   "execution_count": 65,
   "metadata": {},
   "outputs": [
    {
     "data": {
      "application/vnd.jupyter.widget-view+json": {
       "model_id": "680bd98a03f44354b909806c84646a62",
       "version_major": 2,
       "version_minor": 0
      },
      "text/plain": [
       "HBox(children=(FloatProgress(value=0.0, max=1000.0), HTML(value='')))"
      ]
     },
     "metadata": {},
     "output_type": "display_data"
    },
    {
     "name": "stdout",
     "output_type": "stream",
     "text": [
      "\n"
     ]
    },
    {
     "data": {
      "image/png": "[encoded data removed]",
      "text/plain": [
       "<Figure size 432x288 with 1 Axes>"
      ]
     },
     "metadata": {},
     "output_type": "display_data"
    }
   ],
   "source": [
    "booted_data = get_bootstrap(u_premium.query(\"experiment_group == 'A'\").first_purchase, \n",
    "                            u_premium.query(\"experiment_group == 'B'\").first_purchase)"
   ]
  },
  {
   "cell_type": "code",
   "execution_count": 66,
   "metadata": {},
   "outputs": [
    {
     "data": {
      "text/plain": [
       "0.002589147781768342"
      ]
     },
     "execution_count": 66,
     "metadata": {},
     "output_type": "execute_result"
    }
   ],
   "source": [
    "booted_data[\"p_value\"] # альфа"
   ]
  },
  {
   "cell_type": "code",
   "execution_count": 67,
   "metadata": {},
   "outputs": [
    {
     "data": {
      "text/html": [
       "<div>\n",
       "<style scoped>\n",
       "    .dataframe tbody tr th:only-of-type {\n",
       "        vertical-align: middle;\n",
       "    }\n",
       "\n",
       "    .dataframe tbody tr th {\n",
       "        vertical-align: top;\n",
       "    }\n",
       "\n",
       "    .dataframe thead th {\n",
       "        text-align: right;\n",
       "    }\n",
       "</style>\n",
       "<table border=\"1\" class=\"dataframe\">\n",
       "  <thead>\n",
       "    <tr style=\"text-align: right;\">\n",
       "      <th></th>\n",
       "      <th>0</th>\n",
       "    </tr>\n",
       "  </thead>\n",
       "  <tbody>\n",
       "    <tr>\n",
       "      <th>0.025</th>\n",
       "      <td>0.002578</td>\n",
       "    </tr>\n",
       "    <tr>\n",
       "      <th>0.975</th>\n",
       "      <td>0.012455</td>\n",
       "    </tr>\n",
       "  </tbody>\n",
       "</table>\n",
       "</div>"
      ],
      "text/plain": [
       "              0\n",
       "0.025  0.002578\n",
       "0.975  0.012455"
      ]
     },
     "execution_count": 67,
     "metadata": {},
     "output_type": "execute_result"
    }
   ],
   "source": [
    "booted_data[\"quants\"] # ДИ"
   ]
  },
  {
   "cell_type": "markdown",
   "metadata": {},
   "source": [
    "p_value<0.05 Отклоняем H_0 различия статистически значимы"
   ]
  },
  {
   "cell_type": "markdown",
   "metadata": {},
   "source": [
    "### ARPU"
   ]
  },
  {
   "cell_type": "code",
   "execution_count": 49,
   "metadata": {},
   "outputs": [
    {
     "data": {
      "text/html": [
       "<div>\n",
       "<style scoped>\n",
       "    .dataframe tbody tr th:only-of-type {\n",
       "        vertical-align: middle;\n",
       "    }\n",
       "\n",
       "    .dataframe tbody tr th {\n",
       "        vertical-align: top;\n",
       "    }\n",
       "\n",
       "    .dataframe thead th {\n",
       "        text-align: right;\n",
       "    }\n",
       "</style>\n",
       "<table border=\"1\" class=\"dataframe\">\n",
       "  <thead>\n",
       "    <tr style=\"text-align: right;\">\n",
       "      <th></th>\n",
       "      <th>experiment_group</th>\n",
       "      <th>ARPU</th>\n",
       "    </tr>\n",
       "  </thead>\n",
       "  <tbody>\n",
       "    <tr>\n",
       "      <th>0</th>\n",
       "      <td>A</td>\n",
       "      <td>526.818805</td>\n",
       "    </tr>\n",
       "    <tr>\n",
       "      <th>1</th>\n",
       "      <td>B</td>\n",
       "      <td>544.313138</td>\n",
       "    </tr>\n",
       "  </tbody>\n",
       "</table>\n",
       "</div>"
      ],
      "text/plain": [
       "  experiment_group        ARPU\n",
       "0                A  526.818805\n",
       "1                B  544.313138"
      ]
     },
     "execution_count": 49,
     "metadata": {},
     "output_type": "execute_result"
    }
   ],
   "source": [
    "users_AB.groupby('experiment_group', as_index=False).agg(ARPU=('total_revenue', 'mean'))"
   ]
  },
  {
   "cell_type": "code",
   "execution_count": 50,
   "metadata": {},
   "outputs": [],
   "source": [
    "# Объявим функцию, которая позволит проверять гипотезы с помощью бутстрапа\n",
    "\n",
    "def get_bootstrap(\n",
    "    data_column_1, # числовые значения первой выборки\n",
    "    data_column_2, # числовые значения второй выборки\n",
    "    boot_it = 1000, # количество бутстрэп-подвыборок\n",
    "    statistic = np.mean, # интересующая нас статистика\n",
    "    bootstrap_conf_level = 0.95 # уровень значимости\n",
    "):\n",
    "    boot_data = []\n",
    "    for i in tqdm(range(boot_it)): # извлекаем подвыборки\n",
    "        samples_1 = data_column_1.sample(\n",
    "            len(data_column_1), \n",
    "            replace = True # параметр возвращения\n",
    "        ).values\n",
    "        \n",
    "        samples_2 = data_column_2.sample(\n",
    "            len(data_column_2), \n",
    "            replace = True\n",
    "        ).values\n",
    "        \n",
    "        boot_data.append(statistic(samples_1)-statistic(samples_2)) # mean() - применяем статистику\n",
    "        \n",
    "    pd_boot_data = pd.DataFrame(boot_data)\n",
    "        \n",
    "    left_quant = (1 - bootstrap_conf_level)/2\n",
    "    right_quant = 1 - (1 - bootstrap_conf_level) / 2\n",
    "    quants = pd_boot_data.quantile([left_quant, right_quant])\n",
    "        \n",
    "    p_1 = norm.cdf(\n",
    "        x = 0, \n",
    "        loc = np.mean(boot_data), \n",
    "        scale = np.std(boot_data)\n",
    "    )\n",
    "    p_2 = norm.cdf(\n",
    "        x = 0, \n",
    "        loc = -np.mean(boot_data), \n",
    "        scale = np.std(boot_data)\n",
    "    )\n",
    "    p_value = min(p_1, p_2) * 2\n",
    "        \n",
    "    # Визуализация\n",
    "    _, _, bars = plt.hist(pd_boot_data[0], bins = 50)\n",
    "    for bar in bars:\n",
    "        if bar.get_x() <= quants.iloc[0][0] or bar.get_x() >= quants.iloc[1][0]:\n",
    "            bar.set_facecolor('red')\n",
    "        else: \n",
    "            bar.set_facecolor('grey')\n",
    "            bar.set_edgecolor('black')\n",
    "    \n",
    "    plt.style.use('ggplot')\n",
    "    plt.vlines(quants,ymin=0,ymax=50,linestyle='--')\n",
    "    plt.xlabel('boot_data')\n",
    "    plt.ylabel('frequency')\n",
    "    plt.title(\"Histogram of boot_data\")\n",
    "    plt.show()\n",
    "       \n",
    "    return {\"boot_data\": boot_data, \n",
    "            \"quants\": quants, \n",
    "            \"p_value\": p_value}"
   ]
  },
  {
   "cell_type": "code",
   "execution_count": 51,
   "metadata": {},
   "outputs": [
    {
     "data": {
      "application/vnd.jupyter.widget-view+json": {
       "model_id": "02ca5d57c17841708a7e2d7395b65145",
       "version_major": 2,
       "version_minor": 0
      },
      "text/plain": [
       "HBox(children=(FloatProgress(value=0.0, max=1000.0), HTML(value='')))"
      ]
     },
     "metadata": {},
     "output_type": "display_data"
    },
    {
     "name": "stdout",
     "output_type": "stream",
     "text": [
      "\n"
     ]
    },
    {
     "data": {
      "image/png": "[encoded data removed]",
      "text/plain": [
       "<Figure size 432x288 with 1 Axes>"
      ]
     },
     "metadata": {},
     "output_type": "display_data"
    }
   ],
   "source": [
    "booted_data = get_bootstrap(users_AB.query(\"experiment_group == 'A'\").total_revenue, \n",
    "                            users_AB.query(\"experiment_group == 'B'\").total_revenue)"
   ]
  },
  {
   "cell_type": "code",
   "execution_count": 52,
   "metadata": {},
   "outputs": [
    {
     "data": {
      "text/plain": [
       "0.8196795667205342"
      ]
     },
     "execution_count": 52,
     "metadata": {},
     "output_type": "execute_result"
    }
   ],
   "source": [
    "booted_data[\"p_value\"] # альфа"
   ]
  },
  {
   "cell_type": "code",
   "execution_count": 53,
   "metadata": {},
   "outputs": [
    {
     "data": {
      "text/html": [
       "<div>\n",
       "<style scoped>\n",
       "    .dataframe tbody tr th:only-of-type {\n",
       "        vertical-align: middle;\n",
       "    }\n",
       "\n",
       "    .dataframe tbody tr th {\n",
       "        vertical-align: top;\n",
       "    }\n",
       "\n",
       "    .dataframe thead th {\n",
       "        text-align: right;\n",
       "    }\n",
       "</style>\n",
       "<table border=\"1\" class=\"dataframe\">\n",
       "  <thead>\n",
       "    <tr style=\"text-align: right;\">\n",
       "      <th></th>\n",
       "      <th>0</th>\n",
       "    </tr>\n",
       "  </thead>\n",
       "  <tbody>\n",
       "    <tr>\n",
       "      <th>0.025</th>\n",
       "      <td>-215.489329</td>\n",
       "    </tr>\n",
       "    <tr>\n",
       "      <th>0.975</th>\n",
       "      <td>171.184770</td>\n",
       "    </tr>\n",
       "  </tbody>\n",
       "</table>\n",
       "</div>"
      ],
      "text/plain": [
       "                0\n",
       "0.025 -215.489329\n",
       "0.975  171.184770"
      ]
     },
     "execution_count": 53,
     "metadata": {},
     "output_type": "execute_result"
    }
   ],
   "source": [
    "booted_data[\"quants\"] # ДИ"
   ]
  },
  {
   "cell_type": "markdown",
   "metadata": {},
   "source": [
    "p_value>0.05 Принимаем H_0 различия статистически не значимы"
   ]
  },
  {
   "cell_type": "markdown",
   "metadata": {},
   "source": [
    "### ARPPU"
   ]
  },
  {
   "cell_type": "code",
   "execution_count": 54,
   "metadata": {},
   "outputs": [
    {
     "data": {
      "text/html": [
       "<div>\n",
       "<style scoped>\n",
       "    .dataframe tbody tr th:only-of-type {\n",
       "        vertical-align: middle;\n",
       "    }\n",
       "\n",
       "    .dataframe tbody tr th {\n",
       "        vertical-align: top;\n",
       "    }\n",
       "\n",
       "    .dataframe thead th {\n",
       "        text-align: right;\n",
       "    }\n",
       "</style>\n",
       "<table border=\"1\" class=\"dataframe\">\n",
       "  <thead>\n",
       "    <tr style=\"text-align: right;\">\n",
       "      <th></th>\n",
       "      <th>experiment_group</th>\n",
       "      <th>ARPPU</th>\n",
       "    </tr>\n",
       "  </thead>\n",
       "  <tbody>\n",
       "    <tr>\n",
       "      <th>0</th>\n",
       "      <td>A</td>\n",
       "      <td>6460.461429</td>\n",
       "    </tr>\n",
       "    <tr>\n",
       "      <th>1</th>\n",
       "      <td>B</td>\n",
       "      <td>8589.380952</td>\n",
       "    </tr>\n",
       "  </tbody>\n",
       "</table>\n",
       "</div>"
      ],
      "text/plain": [
       "  experiment_group        ARPPU\n",
       "0                A  6460.461429\n",
       "1                B  8589.380952"
      ]
     },
     "execution_count": 54,
     "metadata": {},
     "output_type": "execute_result"
    }
   ],
   "source": [
    "transactions_AB.groupby('experiment_group', as_index=False).agg(ARPPU=('revenue', 'mean'))"
   ]
  },
  {
   "cell_type": "code",
   "execution_count": 55,
   "metadata": {},
   "outputs": [
    {
     "data": {
      "application/vnd.jupyter.widget-view+json": {
       "model_id": "d3fb106659fa4868aa157a70483cf9f3",
       "version_major": 2,
       "version_minor": 0
      },
      "text/plain": [
       "HBox(children=(FloatProgress(value=0.0, max=1000.0), HTML(value='')))"
      ]
     },
     "metadata": {},
     "output_type": "display_data"
    },
    {
     "name": "stdout",
     "output_type": "stream",
     "text": [
      "\n"
     ]
    },
    {
     "data": {
      "image/png": "[encoded data removed]",
      "text/plain": [
       "<Figure size 432x288 with 1 Axes>"
      ]
     },
     "metadata": {},
     "output_type": "display_data"
    }
   ],
   "source": [
    "booted_data = get_bootstrap(transactions_AB.query(\"experiment_group == 'A'\").revenue, \n",
    "                            transactions_AB.query(\"experiment_group == 'B'\").revenue)"
   ]
  },
  {
   "cell_type": "code",
   "execution_count": 56,
   "metadata": {},
   "outputs": [
    {
     "data": {
      "text/plain": [
       "0.003461686525542358"
      ]
     },
     "execution_count": 56,
     "metadata": {},
     "output_type": "execute_result"
    }
   ],
   "source": [
    "booted_data[\"p_value\"] # альфа"
   ]
  },
  {
   "cell_type": "code",
   "execution_count": 57,
   "metadata": {},
   "outputs": [
    {
     "data": {
      "text/html": [
       "<div>\n",
       "<style scoped>\n",
       "    .dataframe tbody tr th:only-of-type {\n",
       "        vertical-align: middle;\n",
       "    }\n",
       "\n",
       "    .dataframe tbody tr th {\n",
       "        vertical-align: top;\n",
       "    }\n",
       "\n",
       "    .dataframe thead th {\n",
       "        text-align: right;\n",
       "    }\n",
       "</style>\n",
       "<table border=\"1\" class=\"dataframe\">\n",
       "  <thead>\n",
       "    <tr style=\"text-align: right;\">\n",
       "      <th></th>\n",
       "      <th>0</th>\n",
       "    </tr>\n",
       "  </thead>\n",
       "  <tbody>\n",
       "    <tr>\n",
       "      <th>0.025</th>\n",
       "      <td>-3660.409667</td>\n",
       "    </tr>\n",
       "    <tr>\n",
       "      <th>0.975</th>\n",
       "      <td>-795.885964</td>\n",
       "    </tr>\n",
       "  </tbody>\n",
       "</table>\n",
       "</div>"
      ],
      "text/plain": [
       "                 0\n",
       "0.025 -3660.409667\n",
       "0.975  -795.885964"
      ]
     },
     "execution_count": 57,
     "metadata": {},
     "output_type": "execute_result"
    }
   ],
   "source": [
    "booted_data[\"quants\"] # ДИ"
   ]
  },
  {
   "cell_type": "markdown",
   "metadata": {},
   "source": [
    "p_value<0.05 Отклоняем H_0 различия статистически значимы"
   ]
  },
  {
   "cell_type": "markdown",
   "metadata": {},
   "source": [
    "**Выводы:** различия в метриках ARPPU и CR статистически значимы, ARPU - статистически не значимы. В результате эксперимента:\n",
    "- CR в premium_no_trial уменьшилась \n",
    "- ARPPU увеличилась \n",
    "\n",
    "Для заключения об успешности эксперимента посомтрим на изменение метрики Retention Rate."
   ]
  },
  {
   "cell_type": "markdown",
   "metadata": {},
   "source": [
    "## Retention Rate\n",
    "Retention будем расчитывать на 1, 7 и 28 дни. Обзор данных показал, что большинство пользователей заходили в приложение каждый день, поэтому retenrion будет расчитан исходя из суммарного количества дней. "
   ]
  },
  {
   "cell_type": "code",
   "execution_count": 69,
   "metadata": {},
   "outputs": [],
   "source": [
    "# Замена пропущенных значений в колонке visit_days на 0\n",
    "users_AB['visit_days'] = users_AB.visit_days.fillna(0)"
   ]
  },
  {
   "cell_type": "code",
   "execution_count": 70,
   "metadata": {},
   "outputs": [],
   "source": [
    "# Создание колонки с суммарным количеством дней\n",
    "\n",
    "users_AB['count_visit_days'] = users_AB.visit_days.apply(lambda x: len(str(x).split(',')) if x != 0 else 0)"
   ]
  },
  {
   "cell_type": "code",
   "execution_count": 79,
   "metadata": {},
   "outputs": [
    {
     "data": {
      "text/html": [
       "<div>\n",
       "<style scoped>\n",
       "    .dataframe tbody tr th:only-of-type {\n",
       "        vertical-align: middle;\n",
       "    }\n",
       "\n",
       "    .dataframe tbody tr th {\n",
       "        vertical-align: top;\n",
       "    }\n",
       "\n",
       "    .dataframe thead th {\n",
       "        text-align: right;\n",
       "    }\n",
       "</style>\n",
       "<table border=\"1\" class=\"dataframe\">\n",
       "  <thead>\n",
       "    <tr style=\"text-align: right;\">\n",
       "      <th></th>\n",
       "      <th>experiment_group</th>\n",
       "      <th>RR_1</th>\n",
       "    </tr>\n",
       "  </thead>\n",
       "  <tbody>\n",
       "    <tr>\n",
       "      <th>0</th>\n",
       "      <td>A</td>\n",
       "      <td>68.759</td>\n",
       "    </tr>\n",
       "    <tr>\n",
       "      <th>1</th>\n",
       "      <td>B</td>\n",
       "      <td>69.127</td>\n",
       "    </tr>\n",
       "  </tbody>\n",
       "</table>\n",
       "</div>"
      ],
      "text/plain": [
       "  experiment_group    RR_1\n",
       "0                A  68.759\n",
       "1                B  69.127"
      ]
     },
     "execution_count": 79,
     "metadata": {},
     "output_type": "execute_result"
    }
   ],
   "source": [
    "# Расчет RR первого дня\n",
    "first_day = users_AB.query(\"count_visit_days != 0\")\n",
    "first_day['first_day'] = 1\n",
    "first_day = first_day[['uid', 'first_day']]\n",
    "\n",
    "RR_1 = users_AB.merge(first_day, how='left', on='uid')\n",
    "RR_1['first_day'] = RR_1.first_day.fillna(0)\n",
    "RR_1 = RR_1.groupby('experiment_group', as_index=False).agg(RR_1=('first_day', 'mean'))\n",
    "RR_1['RR_1'] = RR_1.RR_1.apply(lambda x: round(x*100, 3))\n",
    "RR_1"
   ]
  },
  {
   "cell_type": "code",
   "execution_count": 80,
   "metadata": {},
   "outputs": [
    {
     "data": {
      "text/html": [
       "<div>\n",
       "<style scoped>\n",
       "    .dataframe tbody tr th:only-of-type {\n",
       "        vertical-align: middle;\n",
       "    }\n",
       "\n",
       "    .dataframe tbody tr th {\n",
       "        vertical-align: top;\n",
       "    }\n",
       "\n",
       "    .dataframe thead th {\n",
       "        text-align: right;\n",
       "    }\n",
       "</style>\n",
       "<table border=\"1\" class=\"dataframe\">\n",
       "  <thead>\n",
       "    <tr style=\"text-align: right;\">\n",
       "      <th></th>\n",
       "      <th>experiment_group</th>\n",
       "      <th>RR_7</th>\n",
       "    </tr>\n",
       "  </thead>\n",
       "  <tbody>\n",
       "    <tr>\n",
       "      <th>0</th>\n",
       "      <td>A</td>\n",
       "      <td>25.093</td>\n",
       "    </tr>\n",
       "    <tr>\n",
       "      <th>1</th>\n",
       "      <td>B</td>\n",
       "      <td>25.116</td>\n",
       "    </tr>\n",
       "  </tbody>\n",
       "</table>\n",
       "</div>"
      ],
      "text/plain": [
       "  experiment_group    RR_7\n",
       "0                A  25.093\n",
       "1                B  25.116"
      ]
     },
     "execution_count": 80,
     "metadata": {},
     "output_type": "execute_result"
    }
   ],
   "source": [
    "# Расчет RR седьмого дня\n",
    "seventh_day = users_AB.query(\"count_visit_days >= 7\")\n",
    "seventh_day['seventh_day'] = 1\n",
    "seventh_day = seventh_day[['uid', 'seventh_day']]\n",
    "\n",
    "RR_7 = users_AB.merge(seventh_day, how='left', on='uid')\n",
    "RR_7['seventh_day'] = RR_7.seventh_day.fillna(0)\n",
    "RR_7 = RR_7.groupby('experiment_group', as_index=False).agg(RR_7=('seventh_day', 'mean'))\n",
    "RR_7['RR_7'] = RR_7.RR_7.apply(lambda x: round(x*100, 3))\n",
    "RR_7"
   ]
  },
  {
   "cell_type": "code",
   "execution_count": 73,
   "metadata": {},
   "outputs": [
    {
     "data": {
      "text/html": [
       "<div>\n",
       "<style scoped>\n",
       "    .dataframe tbody tr th:only-of-type {\n",
       "        vertical-align: middle;\n",
       "    }\n",
       "\n",
       "    .dataframe tbody tr th {\n",
       "        vertical-align: top;\n",
       "    }\n",
       "\n",
       "    .dataframe thead th {\n",
       "        text-align: right;\n",
       "    }\n",
       "</style>\n",
       "<table border=\"1\" class=\"dataframe\">\n",
       "  <thead>\n",
       "    <tr style=\"text-align: right;\">\n",
       "      <th></th>\n",
       "      <th>experiment_group</th>\n",
       "      <th>RR_28</th>\n",
       "    </tr>\n",
       "  </thead>\n",
       "  <tbody>\n",
       "    <tr>\n",
       "      <th>0</th>\n",
       "      <td>A</td>\n",
       "      <td>0.002441</td>\n",
       "    </tr>\n",
       "    <tr>\n",
       "      <th>1</th>\n",
       "      <td>B</td>\n",
       "      <td>0.002321</td>\n",
       "    </tr>\n",
       "  </tbody>\n",
       "</table>\n",
       "</div>"
      ],
      "text/plain": [
       "  experiment_group     RR_28\n",
       "0                A  0.002441\n",
       "1                B  0.002321"
      ]
     },
     "execution_count": 73,
     "metadata": {},
     "output_type": "execute_result"
    }
   ],
   "source": [
    "# Расчет RR 28 дня\n",
    "days_28 = users_AB.query(\"count_visit_days == 28\")\n",
    "days_28['days_28'] = 1\n",
    "days_28 = days_28[['uid', 'days_28']]\n",
    "\n",
    "RR_28 = users_AB.merge(days_28, how='left', on='uid')\n",
    "RR_28['days_28'] = RR_28.days_28.fillna(0)\n",
    "RR_28.groupby('experiment_group', as_index=False).agg(RR_28=('days_28', 'mean'))"
   ]
  },
  {
   "cell_type": "markdown",
   "metadata": {},
   "source": [
    "## Для +30"
   ]
  },
  {
   "cell_type": "code",
   "execution_count": 154,
   "metadata": {},
   "outputs": [
    {
     "data": {
      "text/html": [
       "<div>\n",
       "<style scoped>\n",
       "    .dataframe tbody tr th:only-of-type {\n",
       "        vertical-align: middle;\n",
       "    }\n",
       "\n",
       "    .dataframe tbody tr th {\n",
       "        vertical-align: top;\n",
       "    }\n",
       "\n",
       "    .dataframe thead th {\n",
       "        text-align: right;\n",
       "    }\n",
       "</style>\n",
       "<table border=\"1\" class=\"dataframe\">\n",
       "  <thead>\n",
       "    <tr style=\"text-align: right;\">\n",
       "      <th></th>\n",
       "      <th>experiment_group</th>\n",
       "      <th>conversion</th>\n",
       "    </tr>\n",
       "  </thead>\n",
       "  <tbody>\n",
       "    <tr>\n",
       "      <th>0</th>\n",
       "      <td>A</td>\n",
       "      <td>1.759</td>\n",
       "    </tr>\n",
       "    <tr>\n",
       "      <th>1</th>\n",
       "      <td>B</td>\n",
       "      <td>1.820</td>\n",
       "    </tr>\n",
       "  </tbody>\n",
       "</table>\n",
       "</div>"
      ],
      "text/plain": [
       "  experiment_group  conversion\n",
       "0                A       1.759\n",
       "1                B       1.820"
      ]
     },
     "execution_count": 154,
     "metadata": {},
     "output_type": "execute_result"
    }
   ],
   "source": [
    "u_cr_30 = u_premium.query(\"age > 30\") \\\n",
    "                        .groupby('experiment_group', as_index = False) \\\n",
    "                       .agg(conversion=('first_purchase', 'mean')) \n",
    "\n",
    "u_cr_30['conversion'] = u_cr_30.conversion.apply(lambda x: round(x*100, 3))\n",
    "u_cr_30"
   ]
  }
 ],
 "metadata": {
  "kernelspec": {
   "display_name": "Python 3",
   "language": "python",
   "name": "python3"
  },
  "language_info": {
   "codemirror_mode": {
    "name": "ipython",
    "version": 3
   },
   "file_extension": ".py",
   "mimetype": "text/x-python",
   "name": "python",
   "nbconvert_exporter": "python",
   "pygments_lexer": "ipython3",
   "version": "3.7.3"
  }
 },
 "nbformat": 4,
 "nbformat_minor": 4
}
